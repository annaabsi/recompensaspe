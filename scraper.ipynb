{
 "cells": [
  {
   "cell_type": "code",
   "execution_count": null,
   "metadata": {},
   "outputs": [],
   "source": [
    "import json\n",
    "import pandas as pd\n",
    "import requests\n",
    "import io\n",
    "\n",
    "url = 'https://sispasvehapp.mininter.gob.pe/api-recompensas/requisitoriados/delito/pageandfilter'\n",
    "headers = { 'Accept': 'application/json', 'Content-Type': 'application/json',\n",
    "'User-Agent': 'Mozilla/5.0 (Linux; Android 6.0; Nexus 5 Build/MRA58N) AppleWebKit/537.36 (KHTML, like Gecko) Chrome/108.0.0.0 Mobile Safari/537.36'}\n",
    "body = {\"pageInfo\":{\"page\":1,\"size\":4,\"sortBy\":\"id\",\"direction\":\"desc\"},\"search\":{\"tipoFilter\":\"D-VIOLACIÓN SEXUAL\",\"delito\":\"VIOLACIÓN SEXUAL\"}}\n",
    "\n",
    "req = requests.post(url, json=body, headers=headers)\n",
    "\n",
    "my_json = json.load(io.BytesIO(req.content))\n",
    "my_json\n",
    "\n",
    "#df = pd.read_json(my_json)\n",
    "#df"
   ]
  }
 ],
 "metadata": {
  "language_info": {
   "name": "python"
  },
  "orig_nbformat": 4
 },
 "nbformat": 4,
 "nbformat_minor": 2
}
