{
 "cells": [
  {
   "cell_type": "code",
   "execution_count": 12,
   "metadata": {},
   "outputs": [],
   "source": [
    "import json\n",
    "import pandas as pd\n",
    "import requests\n",
    "import io\n",
    "\n",
    "url = 'https://sispasvehapp.mininter.gob.pe/api-recompensas/requisitoriados/delito/pageandfilter'\n",
    "headers = { 'Accept': 'application/json', 'Content-Type': 'application/json',\n",
    "'User-Agent': 'Mozilla/5.0 (Linux; Android 6.0; Nexus 5 Build/MRA58N) AppleWebKit/537.36 (KHTML, like Gecko) Chrome/108.0.0.0 Mobile Safari/537.36'}\n",
    "body = {\"pageInfo\":{\"page\":1,\"size\":500,\"sortBy\":\"id\",\"direction\":\"desc\"},\"search\":{\"tipoFilter\":\"D-VIOLACIÓN SEXUAL\",\"delito\":\"VIOLACIÓN SEXUAL\"}}\n",
    "\n",
    "req = requests.post(url, json=body, headers=headers)\n",
    "\n",
    "my_json = json.load(io.BytesIO(req.content))\n",
    "my_json\n",
    "\n",
    "df = pd.json_normalize(my_json, 'content')\n",
    "df = df.drop(['foto'], axis=1)\n",
    "df.to_csv('recompensas_violacion_sexual.csv', index=False)"
   ]
  },
  {
   "cell_type": "code",
   "execution_count": 13,
   "metadata": {},
   "outputs": [],
   "source": [
    "import json\n",
    "import pandas as pd\n",
    "import requests\n",
    "import io\n",
    "\n",
    "url = 'https://sispasvehapp.mininter.gob.pe/api-recompensas/requisitoriados/delito/pageandfilter'\n",
    "headers = { 'Accept': 'application/json', 'Content-Type': 'application/json',\n",
    "'User-Agent': 'Mozilla/5.0 (Linux; Android 6.0; Nexus 5 Build/MRA58N) AppleWebKit/537.36 (KHTML, like Gecko) Chrome/108.0.0.0 Mobile Safari/537.36'}\n",
    "body = {\"pageInfo\":{\"page\":1,\"size\":100,\"sortBy\":\"id\",\"direction\":\"desc\"},\"search\":{\"tipoFilter\":\"D-FEMINICIDIO\",\"delito\":\"FEMINICIDIO\"}}\n",
    "\n",
    "req = requests.post(url, json=body, headers=headers)\n",
    "\n",
    "my_json = json.load(io.BytesIO(req.content))\n",
    "my_json\n",
    "\n",
    "df = pd.json_normalize(my_json, 'content')\n",
    "df = df.drop(['foto'], axis=1)\n",
    "df.to_csv('recompensas_feminicidio.csv', index=False)"
   ]
  }
 ],
 "metadata": {
  "kernelspec": {
   "display_name": "Python 3",
   "language": "python",
   "name": "python3"
  },
  "language_info": {
   "codemirror_mode": {
    "name": "ipython",
    "version": 3
   },
   "file_extension": ".py",
   "mimetype": "text/x-python",
   "name": "python",
   "nbconvert_exporter": "python",
   "pygments_lexer": "ipython3",
   "version": "3.10.9"
  },
  "orig_nbformat": 4
 },
 "nbformat": 4,
 "nbformat_minor": 2
}
